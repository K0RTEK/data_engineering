{
 "cells": [
  {
   "cell_type": "code",
   "execution_count": 3,
   "id": "9252824b",
   "metadata": {},
   "outputs": [
    {
     "name": "stdout",
     "output_type": "stream",
     "text": [
      "The Moscow Times: 2002-10-02 00:00:00\n",
      "The Guardian: 2013-10-11 00:00:00\n",
      "Daily News: 1977-08-18 00:00:00\n"
     ]
    }
   ],
   "source": [
    "from datetime import datetime\n",
    "\n",
    "dates = [\n",
    "    (\"The Moscow Times\", \"Wednesday, October 2, 2002\"),\n",
    "    (\"The Guardian\", \"Friday, 11.10.13\"),\n",
    "    (\"Daily News\", \"Thursday, 18 August 1977\")\n",
    "]\n",
    "\n",
    "formats = {\n",
    "    \"The Moscow Times\": \"%A, %B %d, %Y\",\n",
    "    \"The Guardian\": \"%A, %d.%m.%y\",\n",
    "    \"Daily News\": \"%A, %d %B %Y\"\n",
    "}\n",
    "\n",
    "for newspaper, date_str in dates:\n",
    "    fmt = formats[newspaper]\n",
    "    dt = datetime.strptime(date_str, fmt)\n",
    "    print(f\"{newspaper}: {dt}\")"
   ]
  }
 ],
 "metadata": {
  "kernelspec": {
   "display_name": "env",
   "language": "python",
   "name": "python3"
  },
  "language_info": {
   "codemirror_mode": {
    "name": "ipython",
    "version": 3
   },
   "file_extension": ".py",
   "mimetype": "text/x-python",
   "name": "python",
   "nbconvert_exporter": "python",
   "pygments_lexer": "ipython3",
   "version": "3.11.9"
  }
 },
 "nbformat": 4,
 "nbformat_minor": 5
}
