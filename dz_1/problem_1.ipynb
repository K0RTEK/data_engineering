{
 "cells": [
  {
   "cell_type": "code",
   "execution_count": null,
   "id": "a13d2728",
   "metadata": {
    "vscode": {
     "languageId": "plaintext"
    }
   },
   "outputs": [],
   "source": [
    "import ast\n",
    "from typing import Dict, List"
   ]
  },
  {
   "cell_type": "code",
   "execution_count": null,
   "id": "f01f8a0d",
   "metadata": {
    "vscode": {
     "languageId": "plaintext"
    }
   },
   "outputs": [],
   "source": [
    "def get_purchase_log_dict(file_path: str) -> Dict[str, str]:\n",
    "    with open(file_path, mode=\"r\", encoding=\"utf-8\") as f:\n",
    "        file: List[str] = f.readlines()\n",
    "        purchases: Dict[str, str]= {}\n",
    "        for line in file[1:]:\n",
    "            dict_line: Dict[str, str] = ast.literal_eval(line)\n",
    "            purchases[dict_line[\"user_id\"]] = dict_line[\"category\"]\n",
    "\n",
    "    return purchases"
   ]
  },
  {
   "cell_type": "code",
   "execution_count": null,
   "id": "4ad4fd25",
   "metadata": {
    "vscode": {
     "languageId": "plaintext"
    }
   },
   "outputs": [],
   "source": [
    "if __name__ == \"__main__\":\n",
    "    purchases = get_purchase_log_dict(\"dz_1/dz_files/purchase_log.txt\")\n",
    "\n",
    "    for counter, (user_id, category) in zip(range(3), purchases.items()):\n",
    "        if counter == 2:\n",
    "            break\n",
    "        else:\n",
    "            print(user_id, category)"
   ]
  }
 ],
 "metadata": {
  "language_info": {
   "name": "python"
  }
 },
 "nbformat": 4,
 "nbformat_minor": 5
}
