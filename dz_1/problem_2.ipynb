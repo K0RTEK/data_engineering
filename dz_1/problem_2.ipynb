{
 "cells": [
  {
   "cell_type": "code",
   "execution_count": null,
   "id": "e7c50d47",
   "metadata": {
    "vscode": {
     "languageId": "plaintext"
    }
   },
   "outputs": [],
   "source": [
    "import ast\n",
    "import csv\n",
    "import os\n",
    "\n",
    "from typing import Dict, List"
   ]
  },
  {
   "cell_type": "code",
   "execution_count": null,
   "id": "aa35e4c1",
   "metadata": {
    "vscode": {
     "languageId": "plaintext"
    }
   },
   "outputs": [],
   "source": [
    "def get_purchase_log_dict(file_path: str) -> Dict[str, str]:\n",
    "    with open(file_path, mode=\"r\", encoding=\"utf-8\") as f:\n",
    "        file: List[str] = f.readlines()\n",
    "        purchases: Dict[str, str]= {}\n",
    "        for line in file[1:]:\n",
    "            dict_line: Dict[str, str] = ast.literal_eval(line)\n",
    "            purchases[dict_line[\"user_id\"]] = dict_line[\"category\"]\n",
    "\n",
    "    return purchases\n",
    "\n",
    "\n",
    "def join_purchases_with_visits(visits_file_path: str, purchases: Dict[str, str], dir_to_save: str = \"/Users/kirill/Documents/data_engineering/dz_1/result_files/\") -> None:\n",
    "    if \"funnel.csv\" in os.listdir(dir_to_save):\n",
    "            os.remove(f\"{dir_to_save}funnel.csv\")\n",
    "\n",
    "    with open(visits_file_path, newline='') as csvfile:\n",
    "        csv_file = csv.reader(csvfile, delimiter=',', quotechar='|')\n",
    "\n",
    "        with open(f\"{dir_to_save}funnel.csv\", mode=\"w\", encoding=\"utf-8\") as f:\n",
    "            f.write(\"user_id,source,category\\n\")\n",
    "\n",
    "            for visit_log in csv_file:\n",
    "                try:\n",
    "                    f.write(f\"{visit_log[0]},{visit_log[1]},{purchases[visit_log[0]]}\\n\")\n",
    "                except:\n",
    "                    pass"
   ]
  },
  {
   "cell_type": "code",
   "execution_count": null,
   "id": "e6a6564c",
   "metadata": {
    "vscode": {
     "languageId": "plaintext"
    }
   },
   "outputs": [],
   "source": [
    "if __name__ == \"__main__\":\n",
    "    purchases = get_purchase_log_dict(\"dz_1/dz_files/purchase_log.txt\")\n",
    "    join_purchases_with_visits('dz_1/dz_files/Visit Log.csv', purchases)\n",
    "\n",
    "    with open(\"dz_1/result_files/funnel.csv\", newline='') as csvfile:\n",
    "        csv_file = csv.reader(csvfile, delimiter=',', quotechar='|')\n",
    "\n",
    "        for row_counter, line in zip(range(4), csv_file):\n",
    "            if row_counter == 3:\n",
    "                break\n",
    "            else:\n",
    "                print(\",\".join(line))"
   ]
  }
 ],
 "metadata": {
  "language_info": {
   "name": "python"
  }
 },
 "nbformat": 4,
 "nbformat_minor": 5
}
